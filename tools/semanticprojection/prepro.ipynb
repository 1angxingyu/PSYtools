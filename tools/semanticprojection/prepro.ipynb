{
 "cells": [
  {
   "cell_type": "code",
   "execution_count": 3,
   "metadata": {},
   "outputs": [],
   "source": [
    "def filter_embeddings():\n",
    "    # 读取常用词表\n",
    "    usual_words = set()\n",
    "    with open('usual.txt', 'r', encoding='utf-8') as f:\n",
    "        for line in f:\n",
    "            word = line.strip().split()[0]  # 获取第一列的词\n",
    "            usual_words.add(word)\n",
    "    \n",
    "    # 读取原始词嵌入文件并筛选\n",
    "    with open('sgns.wiki.bigram-char.txt', 'r', encoding='utf-8') as f_in, \\\n",
    "         open('filtered_embeddings.txt', 'w', encoding='utf-8') as f_out:\n",
    "        for line in f_in:\n",
    "            parts = line.strip().split()\n",
    "            word = parts[0]  # 获取词\n",
    "            if word in usual_words:\n",
    "                f_out.write(line)  # 如果是常用词，写入新文件\n",
    "\n",
    "if __name__ == \"__main__\":\n",
    "    filter_embeddings()"
   ]
  },
  {
   "cell_type": "code",
   "execution_count": null,
   "metadata": {},
   "outputs": [],
   "source": []
  }
 ],
 "metadata": {
  "kernelspec": {
   "display_name": "Python 3",
   "language": "python",
   "name": "python3"
  },
  "language_info": {
   "codemirror_mode": {
    "name": "ipython",
    "version": 3
   },
   "file_extension": ".py",
   "mimetype": "text/x-python",
   "name": "python",
   "nbconvert_exporter": "python",
   "pygments_lexer": "ipython3",
   "version": "3.11.6"
  }
 },
 "nbformat": 4,
 "nbformat_minor": 2
}
